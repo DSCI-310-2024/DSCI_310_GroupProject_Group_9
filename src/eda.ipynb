{
  "cells": [
    {
      "cell_type": "raw",
      "metadata": {},
      "source": [
        "---\n",
        "title: 'DSCI 310: Airbnb Price Analysis'\n",
        "author: 'Oliver Gullery, Prithvi Sureka, Riddhi Battu, Rashi Selarka'\n",
        "format:\n",
        "  html:\n",
        "    toc: true\n",
        "    toc-depth: 3\n",
        "  pdf:\n",
        "    toc: true\n",
        "    toc-depth: 3\n",
        "editor: source\n",
        "---"
      ],
      "id": "3689f142"
    },
    {
      "cell_type": "code",
      "metadata": {},
      "source": [
        "import pandas as pd\n",
        "import numpy as np\n",
        "import seaborn as sns\n",
        "import matplotlib.pyplot as plt\n",
        "from sklearn.model_selection import train_test_split\n",
        "import plotly.express as px\n",
        "import plotly.graph_objects as go\n",
        "import folium\n",
        "\n",
        "from sklearn.pipeline import make_pipeline\n",
        "from sklearn.feature_extraction.text import CountVectorizer\n",
        "import xgboost as xg\n",
        "from sklearn.dummy import DummyClassifier\n",
        "from sklearn.tree import DecisionTreeRegressor\n",
        "from sklearn.compose import make_column_transformer\n",
        "from sklearn.preprocessing import OneHotEncoder, StandardScaler\n",
        "from sklearn.impute import SimpleImputer\n",
        "from sklearn.dummy import DummyRegressor\n",
        "import requests\n",
        "from branca.colormap import linear"
      ],
      "id": "e85ba943",
      "execution_count": null,
      "outputs": []
    },
    {
      "cell_type": "markdown",
      "metadata": {},
      "source": [
        "## Aim\n",
        "The aim of this data analysis project is to identify which of the factors in the Airbnb Dataset are strong predictors of price. Doing so will allow us obtain information which can determine if Airbnbs are accurately priced. \n"
      ],
      "id": "f1e1b48d"
    },
    {
      "cell_type": "code",
      "metadata": {},
      "source": [
        "# loading the data\n",
        "url_listings = \"http://data.insideairbnb.com/united-states/ny/new-york-city/2024-02-06/visualisations/listings.csv\"\n",
        "\n",
        "data = pd.read_csv(url_listings)\n",
        "data.head(3)"
      ],
      "id": "744199a0",
      "execution_count": null,
      "outputs": []
    },
    {
      "cell_type": "markdown",
      "metadata": {},
      "source": [
        "### Export the dataset to our data/raw folder\n"
      ],
      "id": "a00497fb"
    },
    {
      "cell_type": "code",
      "metadata": {},
      "source": [
        "data.to_csv(\"../data/raw/airbnb_data_2024\")"
      ],
      "id": "a7e01a51",
      "execution_count": null,
      "outputs": []
    },
    {
      "cell_type": "markdown",
      "metadata": {},
      "source": [
        "### Data Shape & Datatypes\n"
      ],
      "id": "3f3edd41"
    },
    {
      "cell_type": "code",
      "metadata": {},
      "source": [
        "print(f'Data Shape: {data.shape}\\n')\n",
        "\n",
        "\n",
        "\n",
        "print(f'Data datatypes: \\n{data.dtypes}')"
      ],
      "id": "240c4a7b",
      "execution_count": null,
      "outputs": []
    },
    {
      "cell_type": "markdown",
      "metadata": {},
      "source": [
        "### Summary Statistics\n"
      ],
      "id": "98e06367"
    },
    {
      "cell_type": "code",
      "metadata": {},
      "source": [
        "data.info()\n",
        "\n",
        "data.describe()"
      ],
      "id": "fc9a4f42",
      "execution_count": null,
      "outputs": []
    },
    {
      "cell_type": "markdown",
      "metadata": {},
      "source": [
        "### Identifying Null values & Duplicates\n"
      ],
      "id": "9793af6b"
    },
    {
      "cell_type": "code",
      "metadata": {},
      "source": [
        "print(f'Null Values: {data.isna().sum()}\\n')\n",
        "\n",
        "print(f'Duplicated Values: {data.duplicated().sum()}')"
      ],
      "id": "f75db111",
      "execution_count": null,
      "outputs": []
    },
    {
      "cell_type": "markdown",
      "metadata": {},
      "source": [
        "### Correlation Matrix (Ranked with Top Ten Correlations)\n"
      ],
      "id": "e0ce2ead"
    },
    {
      "cell_type": "code",
      "metadata": {},
      "source": [
        "# creating correlation matrix\n",
        "corr_matrix = data.select_dtypes('int64')\n",
        "\n",
        "def rank_correlations(corr_matrix):\n",
        "    # flattening matrix\n",
        "    flattened_matrix = corr_matrix.stack().reset_index()\n",
        "\n",
        "    #renaming columns\n",
        "    flattened_matrix.columns = ['Variable_1', 'Variable_2', 'Correlation']\n",
        "\n",
        "    # removing duplicate variable names\n",
        "    flattened_matrix = flattened_matrix.loc[flattened_matrix['Variable_1'] != flattened_matrix['Variable_2']]\n",
        "\n",
        "    corr_column = flattened_matrix['Correlation']\n",
        "\n",
        "    flattened_matrix = flattened_matrix.iloc[abs(corr_column).argsort()[::-1]]\n",
        "\n",
        "    flattened_matrix = flattened_matrix.loc[flattened_matrix['Correlation'].duplicated()]\n",
        "\n",
        "\n",
        "    print(f'Top 10 Variable Correlations: \\n{flattened_matrix.head(10)}')\n",
        "\n",
        "rank_correlations(corr_matrix)"
      ],
      "id": "828d9721",
      "execution_count": null,
      "outputs": []
    },
    {
      "cell_type": "markdown",
      "metadata": {},
      "source": [
        "## Takwaways From Preliminary EDA\n",
        "- Our shape function tells us we have 48895 rows and 16 features which includes our target variable `price`. \n",
        "\n",
        "-Looking at the columns from our info() function we can identify that name is a text data which could provide some valuable insights. We can also infer that any id information (`id` and `host_id`) and variables such as `host_name` will not provide any key information, thus, we can drop them for our data analysis.\n",
        "\n",
        "- The describe() function provided key summary statistics for our numerical columns which included the following metrics: count, mean, standard deviation, minimum, and maximum. This helps us obtain an idea as to the spread of our data. Our info() function gave us further information about the datatypes, columns, and amount of data we have. Through this analysis in addition to our dtypes() function we can identify that last_reviw is an object dtype but could be converted into a pandas datatime format to further utilize pandas datatime capabilities. Examples of such would be splitting the data into year, month and day to identify if there are any temporal patterns across months of years. \n",
        "\n",
        "- Our isna() function informed us of the null values which are included in the dataset. The columns `name` and `host_name` have 16 and 21 null values respectively, we can address this null values by imputing a blank string to indicate the information is not provided. Our `reviews_per_month` column and `last_review` column have 10052. As these have identical amounts of null values, we can assume that if a Airbnb listing doesn't have a review, instead zero the dataset put a null values. This can be addressed through imputing zero into the null vaues in the reviews_per_month column.  \n",
        "\n",
        "### Summary\n",
        "In order to prepare our data for further analysis we must perform some preliminary feature engineering which will involve:\n",
        "- Convert `id` and `host_id` into object datatypes to prepare them to be dropped.\n",
        "- Converting the data type of the `last_review` column.\n",
        "    - Then split the `last_review` into year, month and day.\n",
        "- Imputing zeros into the `reviews_per_month` null values\n",
        "- Imputing an empty string into the null values for `name` and `host_name\n",
        "\n",
        "\n",
        "After these changes are made we can proceed to split our data into a train and test set and label our data by data type (numeric, categorical, text, and drop columns).\n",
        "### Preliminary Feature Engineering\n",
        "In order to prepare our data, for further analysis we must perform some preliminary feature engineering which will involve:\n",
        "\n",
        "1. **Convert `id` and `host_id` into object datatypes to prepare them to be dropped.**\n"
      ],
      "id": "74e538f3"
    },
    {
      "cell_type": "code",
      "metadata": {},
      "source": [
        "data['id'] = str(data['id'])\n",
        "data['host_id'] = str(data['host_id'])"
      ],
      "id": "67ef5e0a",
      "execution_count": null,
      "outputs": []
    },
    {
      "cell_type": "markdown",
      "metadata": {},
      "source": [
        "2. **Convert the data type of the `last_review` column to datetime.**\n"
      ],
      "id": "043999b0"
    },
    {
      "cell_type": "code",
      "metadata": {},
      "source": [
        "data['last_review'] = pd.to_datetime(data['last_review'])"
      ],
      "id": "4534f021",
      "execution_count": null,
      "outputs": []
    },
    {
      "cell_type": "markdown",
      "metadata": {},
      "source": [
        "3. **Split the `last_review` column into year, month, and day columns.**\n"
      ],
      "id": "63abbdc9"
    },
    {
      "cell_type": "code",
      "metadata": {},
      "source": [
        "data['year'] = data['last_review'].dt.year\n",
        "data['month'] = data['last_review'].dt.month\n",
        "data['day'] = data['last_review'].dt.day"
      ],
      "id": "0c32c6de",
      "execution_count": null,
      "outputs": []
    },
    {
      "cell_type": "markdown",
      "metadata": {},
      "source": [
        "4. **Impute zeros into the `reviews_per_month` column for null values.**\n"
      ],
      "id": "6f81524e"
    },
    {
      "cell_type": "code",
      "metadata": {},
      "source": [
        "data['reviews_per_month'] = data['reviews_per_month'].fillna(0)"
      ],
      "id": "0f3e6dd5",
      "execution_count": null,
      "outputs": []
    },
    {
      "cell_type": "markdown",
      "metadata": {},
      "source": [
        "5. **Impute an empty string into the `name` and `host_name` columns for null values.**\n"
      ],
      "id": "d53bbd9d"
    },
    {
      "cell_type": "code",
      "metadata": {},
      "source": [
        "data['name'] = data['name'].fillna('')\n",
        "data['host_name'] = data['host_name'].fillna('')"
      ],
      "id": "b26ccad1",
      "execution_count": null,
      "outputs": []
    },
    {
      "cell_type": "markdown",
      "metadata": {},
      "source": [
        "After these changes are made we can proceed to split our data and perform further analysis.\n",
        "\n",
        "## Prelimenary Feature Engineering\n",
        "For the preliminary feature engineering, we will perform the steps above:\n",
        "\n",
        "### Putting It All Together\n",
        "Now, let's put all these steps together to perform your preliminary feature engineering tasks.\n"
      ],
      "id": "3dc6765e"
    },
    {
      "cell_type": "code",
      "metadata": {},
      "source": [
        "# Convert last_review to datetime\n",
        "data['last_review'] = pd.to_datetime(data['last_review'])\n",
        "\n",
        "# Extract year, month, and day from last_review\n",
        "data['year'] = data['last_review'].dt.year\n",
        "data['month'] = data['last_review'].dt.month\n",
        "data['day'] = data['last_review'].dt.day\n",
        "\n",
        "# Impute zeros for reviews_per_month null values\n",
        "data['reviews_per_month'] = data['reviews_per_month'].fillna(0)\n",
        "\n",
        "# Impute empty string for name and host_name null values\n",
        "data['name'] = data['name'].fillna('')\n",
        "data['host_name'] = data['host_name'].fillna('')\n",
        "\n",
        "data.head(3)"
      ],
      "id": "7cdffd0c",
      "execution_count": null,
      "outputs": []
    },
    {
      "cell_type": "markdown",
      "metadata": {},
      "source": [
        "### Splitting Data\n"
      ],
      "id": "c92feb43"
    },
    {
      "cell_type": "code",
      "metadata": {},
      "source": [
        "train_df, test_df = train_test_split(data, test_size=0.2)\n",
        "\n",
        "# numeric data\n",
        "numerical_data = data.select_dtypes(include=[\"int64\", \"float64\"])\n",
        "numerical_data = numerical_data.columns\n",
        "\n",
        "# text data\n",
        "text_data = [\"name\"]\n",
        "\n",
        "# drop data\n",
        "drop_data = [\"host_name\", \"host_id\", \"id\"]\n",
        "\n",
        "# Categorical Data\n",
        "categorical_data = data.select_dtypes(include=[\"object\"])\n",
        "categorical_data = categorical_data.columns\n",
        "columns_to_exclude = text_data + drop_data\n",
        "categorical_data = [col for col in categorical_data if col not in columns_to_exclude]\n",
        "\n",
        "\n",
        "print(f'Train Shape: {train_df.shape}\\nTest Shape: {test_df.shape}\\n')\n",
        "print(f\"Numerical Columns: {numerical_data}/n\")\n",
        "print(f\"Categorical Columns: {categorical_data}\\n\")\n",
        "print(f\"Text Data: {text_data}\\n\")\n",
        "print(f\"Drop Columns: {drop_data}\\n\")"
      ],
      "id": "40df6c8b",
      "execution_count": null,
      "outputs": []
    },
    {
      "cell_type": "markdown",
      "metadata": {},
      "source": [
        "# Exploratory Data Analysis (Visualizations)\n",
        "\n",
        "\n",
        "### Figure 1. Map with Distribution of Listings by Location and Price\n"
      ],
      "id": "74007c73"
    },
    {
      "cell_type": "code",
      "metadata": {},
      "source": [
        "plt.figure(figsize=(10, 8))\n",
        "\n",
        "# Setting color limits to more typical range, e.g., 0 to 400\n",
        "# Adjust these values based on your specific dataset and its distribution\n",
        "vmin, vmax = 0, 400\n",
        "\n",
        "sc = plt.scatter(train_df['longitude'], train_df['latitude'], c=train_df['price'], cmap='viridis', s=10, alpha=0.6, vmin=vmin, vmax=vmax)\n",
        "plt.colorbar(sc, label='Price')\n",
        "plt.xlabel('Longitude')\n",
        "plt.ylabel('Latitude')\n",
        "plt.title('Distribution of Listings by Location and Price')\n",
        "plt.grid(True, which='both', linestyle='--', linewidth=0.5)\n",
        "plt.show()\n",
        "plt.figure(figsize=(10, 8))"
      ],
      "id": "72039e03",
      "execution_count": null,
      "outputs": []
    },
    {
      "cell_type": "markdown",
      "metadata": {},
      "source": [
        "### Figure 2. Price vs Number of Reviews Coloured by Room Type Scatterplot\n"
      ],
      "id": "960e313e"
    },
    {
      "cell_type": "code",
      "metadata": {},
      "source": [
        "sns.scatterplot(train_df, x = 'price', y='number_of_reviews', hue='room_type')\n",
        "plt.title(\"Price vs Number of Reviews Coloured by Room Type\")\n",
        "plt.xlabel(\"Price\")\n",
        "plt.ylabel(\"# of Reviews\")\n",
        "plt.show()"
      ],
      "id": "ba89ddab",
      "execution_count": null,
      "outputs": []
    },
    {
      "cell_type": "markdown",
      "metadata": {},
      "source": [
        "### Figure 3. Price vs Reviews Per Month Coloured by Room Type Scatterplot\n"
      ],
      "id": "8ca36711"
    },
    {
      "cell_type": "code",
      "metadata": {},
      "source": [
        "sns.scatterplot(train_df, x = 'price', y='reviews_per_month', hue='room_type')\n",
        "plt.title(\"Price vs Reviews Per Month Coloured by Room Type\")\n",
        "plt.xlabel(\"Price\")\n",
        "plt.ylabel(\"# of Reviews per Month\")\n",
        "plt.show()"
      ],
      "id": "606b78ef",
      "execution_count": null,
      "outputs": []
    },
    {
      "cell_type": "markdown",
      "metadata": {},
      "source": [
        "### Figure 4. Neighbourhood Group vs Log Scaled Price Coloured Boxplot\n"
      ],
      "id": "013ce01f"
    },
    {
      "cell_type": "code",
      "metadata": {},
      "source": [
        "log_price = np.log(train_df['price'])\n",
        "sns.boxplot(data=train_df, x=log_price, y='neighbourhood_group')\n",
        "plt.title(\"Boxplot of Neighbourhood Group vs Log Price\")\n",
        "plt.show()"
      ],
      "id": "0afe7fc5",
      "execution_count": null,
      "outputs": []
    },
    {
      "cell_type": "markdown",
      "metadata": {},
      "source": [
        "### Figure 5. Room Type Vs Price Box plot\n",
        "- This visualiation was created to see if there is any relationship between room type and price.\n",
        "- As we can see price differs among the different room types indicating that room type may be able to account for the variation in price. \n"
      ],
      "id": "edd91a20"
    },
    {
      "cell_type": "code",
      "metadata": {},
      "source": [
        "sns.boxplot(data=train_df, x='price', y='room_type')\n",
        "plt.title(\"Boxplot of Price against Room Type\")\n",
        "plt.show()"
      ],
      "id": "4f5a5aa5",
      "execution_count": null,
      "outputs": []
    },
    {
      "cell_type": "markdown",
      "metadata": {},
      "source": [
        "# Preprocessing & Transformations\n",
        "\n",
        "\n",
        "# Preparing Data\n",
        "Splitting Data into train and test set and performing imputation on missing values\n"
      ],
      "id": "8c010cb8"
    },
    {
      "cell_type": "code",
      "metadata": {},
      "source": [
        "y = data['price']\n",
        "X = data.drop('price', axis=1)\n",
        "X_train, X_test, y_train, y_test = train_test_split(X, y, test_size=0.2, random_state=123)\n",
        "\n",
        "def impute_random(df, column_name):\n",
        "    probs = df[column_name].value_counts(normalize=True)\n",
        "    missing = df[column_name].isna()\n",
        "    imputed_data = np.random.choice(probs.index, size=missing.sum(), p=probs.values)\n",
        "    df.loc[missing, column_name] = imputed_data  # Corrected variable name here\n",
        "    return df\n",
        "\n",
        "\n",
        "numerical_data = numerical_data.tolist()  # Convert to list if it's not already\n",
        "\n",
        "# Check if 'last_review' exists in numerical_data before removing\n",
        "if 'last_review' in numerical_data:\n",
        "    numerical_data.remove('last_review')\n",
        "\n",
        "date_data = ['year', 'month', 'day']\n",
        "\n",
        "# Performing imputation on the null values in our date info\n",
        "for i in date_data:  # Corrected the loop variable name\n",
        "    X_train = impute_random(X_train, i)  # Ensure correct function call\n",
        "    X_test = impute_random(X_test, i)  # Corrected the function name and the argument"
      ],
      "id": "47ffb553",
      "execution_count": null,
      "outputs": []
    },
    {
      "cell_type": "markdown",
      "metadata": {},
      "source": [
        "## Defining Transformations \n"
      ],
      "id": "cef1adbc"
    },
    {
      "cell_type": "code",
      "metadata": {},
      "source": [
        "# Numerical Transformer\n",
        "numerical_transformer = StandardScaler()\n",
        "\n",
        "# Categorical Transformer\n",
        "categorical_transformer = OneHotEncoder(handle_unknown='ignore')\n",
        "\n",
        "# Text Data Transformer\n",
        "text_transformer = CountVectorizer()"
      ],
      "id": "2aff0324",
      "execution_count": null,
      "outputs": []
    },
    {
      "cell_type": "code",
      "metadata": {},
      "source": [
        "preprocessor = make_column_transformer(\n",
        "    ('drop', drop_data),\n",
        "    (numerical_transformer, numerical_data),\n",
        "    (categorical_transformer, categorical_data),\n",
        "    (text_transformer, text_data),\n",
        "    remainder='passthrough'\n",
        ")"
      ],
      "id": "1af24f9c",
      "execution_count": null,
      "outputs": []
    },
    {
      "cell_type": "markdown",
      "metadata": {},
      "source": [
        "# Creating a Baseline Model\n"
      ],
      "id": "f6d583dd"
    },
    {
      "cell_type": "code",
      "metadata": {},
      "source": [
        "reg = DummyRegressor()"
      ],
      "id": "30c0698b",
      "execution_count": null,
      "outputs": []
    },
    {
      "cell_type": "code",
      "metadata": {},
      "source": [
        "pipe = make_pipeline(preprocessor, reg)\n",
        "pipe.fit(X_train, y_train)\n",
        "pipe.predict(y_train)\n",
        "f'Test Score is: {pipe.score(X_train, y_train)}'"
      ],
      "id": "891d3a0c",
      "execution_count": null,
      "outputs": []
    }
  ],
  "metadata": {
    "kernelspec": {
      "name": "dsci",
      "language": "python",
      "display_name": "Python (dsci)"
    }
  },
  "nbformat": 4,
  "nbformat_minor": 5
}