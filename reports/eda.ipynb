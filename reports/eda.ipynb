{
  "cells": [
    {
      "cell_type": "raw",
      "metadata": {},
      "source": [
        "---\n",
        "title: 'DSCI 310: Airbnb Price Analysis'\n",
        "author: 'Oliver Gullery, Prithvi, Riddhi Battu, Rashi'\n",
        "format:\n",
        "  html:\n",
        "    toc: true\n",
        "    toc-depth: 3\n",
        "  pdf:\n",
        "    toc: true\n",
        "    toc-depth: 3\n",
        "editor: source\n",
        "---"
      ],
      "id": "b61b12c6"
    },
    {
      "cell_type": "code",
      "metadata": {},
      "source": [
        "import pandas as pd\n",
        "import numpy as np\n",
        "import seaborn as sns\n",
        "import matplotlib.pyplot as plt\n",
        "from sklearn.model_selection import train_test_split\n",
        "import plotly.express as px\n",
        "import plotly.graph_objects as go\n",
        "import folium"
      ],
      "id": "493b7348",
      "execution_count": null,
      "outputs": []
    },
    {
      "cell_type": "markdown",
      "metadata": {},
      "source": [
        "## Aim\n",
        "The aim of this data analysis project is to identify which of the factors in the Airbnb Kaggle Dataset are strong predictors of price. Doing so will allow us obtain information which can determine if Airbnbs are accurately priced. \n"
      ],
      "id": "c1511098"
    },
    {
      "cell_type": "code",
      "metadata": {},
      "source": [
        "# loading the data\n",
        "data = pd.read_csv(\"../data/raw/AB_NYC_2019.csv\")\n",
        "data.head(3)"
      ],
      "id": "4fea4780",
      "execution_count": null,
      "outputs": []
    },
    {
      "cell_type": "markdown",
      "metadata": {},
      "source": [
        "### Data Shape & Datatypes\n"
      ],
      "id": "13fbd3ae"
    },
    {
      "cell_type": "code",
      "metadata": {},
      "source": [
        "print(f'Data Shape: {data.shape}\\n')\n",
        "\n",
        "\n",
        "\n",
        "print(f'Data datatypes: \\n{data.dtypes}')"
      ],
      "id": "b68d7785",
      "execution_count": null,
      "outputs": []
    },
    {
      "cell_type": "markdown",
      "metadata": {},
      "source": [
        "### Summary Statistics\n"
      ],
      "id": "9299cfbd"
    },
    {
      "cell_type": "code",
      "metadata": {},
      "source": [
        "data.info()\n",
        "\n",
        "data.describe()"
      ],
      "id": "cfd5c205",
      "execution_count": null,
      "outputs": []
    },
    {
      "cell_type": "markdown",
      "metadata": {},
      "source": [
        "### Identifying Null values & Duplicates\n"
      ],
      "id": "9abba927"
    },
    {
      "cell_type": "code",
      "metadata": {},
      "source": [
        "print(f'Null Values: {data.isna().sum()}\\n')\n",
        "\n",
        "print(f'Duplicated Values: {data.duplicated().sum()}')"
      ],
      "id": "1058c41f",
      "execution_count": null,
      "outputs": []
    },
    {
      "cell_type": "markdown",
      "metadata": {},
      "source": [
        "### Correlation Matrix (Ranked with Top Ten Correlations)\n"
      ],
      "id": "478157e4"
    },
    {
      "cell_type": "code",
      "metadata": {},
      "source": [
        "# creating correlation matrix\n",
        "corr_matrix = data.corr()\n",
        "\n",
        "def rank_correlations(corr_matrix):\n",
        "    # flattening matrix\n",
        "    flattened_matrix = corr_matrix.stack().reset_index()\n",
        "\n",
        "    #renaming columns\n",
        "    flattened_matrix.columns = ['Variable_1', 'Variable_2', 'Correlation']\n",
        "\n",
        "    # removing duplicate variable names\n",
        "    flattened_matrix = flattened_matrix.loc[flattened_matrix['Variable_1'] != flattened_matrix['Variable_2']]\n",
        "\n",
        "    corr_column = flattened_matrix['Correlation']\n",
        "\n",
        "    flattened_matrix = flattened_matrix.iloc[abs(corr_column).argsort()[::-1]]\n",
        "\n",
        "    flattened_matrix = flattened_matrix.loc[flattened_matrix['Correlation'].duplicated()]\n",
        "\n",
        "\n",
        "    print(f'Top 10 Variable Correlations: \\n{flattened_matrix.head(10)}')\n",
        "\n",
        "rank_correlations(corr_matrix)"
      ],
      "id": "14da1098",
      "execution_count": null,
      "outputs": []
    },
    {
      "cell_type": "markdown",
      "metadata": {},
      "source": [
        "## Takwaways From Preliminary EDA\n",
        "- Our shape function tells us we have 48895 rows and 16 features which includes our target variable `price`. \n",
        "\n",
        "-Looking at the columns from our info() function we can identify that name is a text data which could provide some valuable insights. We can also infer that any id information (`id` and `host_id`) and variables such as `host_name` will not provide any key information, thus, we can drop them for our data analysis.\n",
        "\n",
        "- The describe() function provided key summary statistics for our numerical columns which included the following metrics: count, mean, standard deviation, minimum, and maximum. This helps us obtain an idea as to the spread of our data. Our info() function gave us further information about the datatypes, columns, and amount of data we have. Through this analysis in addition to our dtypes() function we can identify that last_reviw is an object dtype but could be converted into a pandas datatime format to further utilize pandas datatime capabilities. Examples of such would be splitting the data into year, month and day to identify if there are any temporal patterns across months of years. \n",
        "\n",
        "- Our isna() function informed us of the null values which are included in the dataset. The columns `name` and `host_name` have 16 and 21 null values respectively, we can address this null values by imputing a blank string to indicate the information is not provided. Our `reviews_per_month` column and `last_review` column have 10052. As these have identical amounts of null values, we can assume that if a Airbnb listing doesn't have a review, instead zero the dataset put a null values. This can be addressed through imputing zero into the null vaues in the reviews_per_month column.  \n",
        "\n",
        "### Summary\n",
        "In order to prepare our data, for further analysis we must perform some preliminary feature engineering which will involve:\n",
        "- Convert `id` and `host_id` into object datatypes to prepare them to be dropped.\n",
        "- Converting the data type of the `last_review` column.\n",
        "    - Then split the `last_review` into year, month and day.\n",
        "- Imputing zeros into the `reviews_per_month` null values\n",
        "- Imputing an empty string into the null values for `name` and `host_name\n",
        "\n",
        "\n",
        "After these changes are made we can proceed to split our data into a train and test set and label our data by data type (numeric, categorical, text, and drop columns) and then perform further analysis.\n",
        "### Preliminary Feature Engineering\n",
        "In order to prepare our data, for further analysis we must perform some preliminary feature engineering which will involve:\n",
        "\n",
        "1. **Convert `id` and `host_id` into object datatypes to prepare them to be dropped.**\n"
      ],
      "id": "06e5db9a"
    },
    {
      "cell_type": "code",
      "metadata": {},
      "source": [
        "data['id'] = str(data['id'])\n",
        "data['host_id'] = str(data['hose_id'])"
      ],
      "id": "08daa498",
      "execution_count": null,
      "outputs": []
    },
    {
      "cell_type": "markdown",
      "metadata": {},
      "source": [
        "2. **Convert the data type of the `last_review` column to datetime.**\n"
      ],
      "id": "94d4742a"
    },
    {
      "cell_type": "code",
      "metadata": {},
      "source": [
        "data['last_review'] = pd.to_datetime(data['last_review'])"
      ],
      "id": "97aa1860",
      "execution_count": null,
      "outputs": []
    },
    {
      "cell_type": "markdown",
      "metadata": {},
      "source": [
        "3. **Split the `last_review` column into year, month, and day columns.**\n"
      ],
      "id": "cfdc45b4"
    },
    {
      "cell_type": "code",
      "metadata": {},
      "source": [
        "data['year'] = data['last_review'].dt.year\n",
        "data['month'] = data['last_review'].dt.month\n",
        "data['day'] = data['last_review'].dt.day"
      ],
      "id": "477c9779",
      "execution_count": null,
      "outputs": []
    },
    {
      "cell_type": "markdown",
      "metadata": {},
      "source": [
        "4. **Impute zeros into the `reviews_per_month` column for null values.**\n"
      ],
      "id": "6bbe527f"
    },
    {
      "cell_type": "code",
      "metadata": {},
      "source": [
        "data['reviews_per_month'] = data['reviews_per_month'].fillna(0)"
      ],
      "id": "d8c0c366",
      "execution_count": null,
      "outputs": []
    },
    {
      "cell_type": "markdown",
      "metadata": {},
      "source": [
        "5. **Impute an empty string into the `name` and `host_name` columns for null values.**\n"
      ],
      "id": "ff4fce56"
    },
    {
      "cell_type": "code",
      "metadata": {},
      "source": [
        "data['name'] = data['name'].fillna('')\n",
        "data['host_name'] = data['host_name'].fillna('')"
      ],
      "id": "9e823ebd",
      "execution_count": null,
      "outputs": []
    },
    {
      "cell_type": "markdown",
      "metadata": {},
      "source": [
        "After these changes are made we can proceed to split our data and perform further analysis.\n",
        "\n",
        "## Prelimenary Feature Engineering\n",
        "For the preliminary feature engineering, we will perform the steps above:\n",
        "\n",
        "### Putting It All Together\n",
        "Now, let's put all these steps together to perform your preliminary feature engineering tasks.\n"
      ],
      "id": "957dad59"
    },
    {
      "cell_type": "code",
      "metadata": {},
      "source": [
        "# Convert last_review to datetime\n",
        "data['last_review'] = pd.to_datetime(data['last_review'])\n",
        "\n",
        "# Extract year, month, and day from last_review\n",
        "data['year'] = data['last_review'].dt.year\n",
        "data['month'] = data['last_review'].dt.month\n",
        "data['day'] = data['last_review'].dt.day\n",
        "\n",
        "# Impute zeros for reviews_per_month null values\n",
        "data['reviews_per_month'] = data['reviews_per_month'].fillna(0)\n",
        "\n",
        "# Impute empty string for name and host_name null values\n",
        "data['name'] = data['name'].fillna('')\n",
        "data['host_name'] = data['host_name'].fillna('')\n",
        "\n",
        "data.head(3)"
      ],
      "id": "baed4b39",
      "execution_count": null,
      "outputs": []
    }
  ],
  "metadata": {
    "kernelspec": {
      "name": "dsci",
      "language": "python",
      "display_name": "Python (dsci)"
    }
  },
  "nbformat": 4,
  "nbformat_minor": 5
}