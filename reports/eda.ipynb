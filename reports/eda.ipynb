{
  "cells": [
    {
      "cell_type": "raw",
      "id": "e185159d",
      "metadata": {},
      "source": [
        "---\n",
        "title: \"DSCI 310: Airbnb Price Analysis\"\n",
        "author: \"Oliver Gullery, Prithvi Sureka, Riddhi Battu, Rashi Selarka\"\n",
        "format: \n",
        "    html: \n",
        "        toc: true\n",
        "        toc-depth: 3\n",
        "    pdf:\n",
        "        toc: true\n",
        "        toc-depth: 3\n",
        "# bibliography: references.bibit\n",
        "editor: source\n",
        "#jupyter: dsci\n",
        "\n",
        "---"
      ]
    },
    {
      "cell_type": "code",
      "execution_count": null,
      "id": "34d6919c",
      "metadata": {},
      "outputs": [],
      "source": [
        "import pandas as pd\n",
        "import numpy as np\n",
        "import seaborn as sns\n",
        "import matplotlib.pyplot as plt\n",
        "from sklearn.model_selection import train_test_split\n",
        "import plotly.express as px\n",
        "import plotly.graph_objects as go\n",
        "import folium\n",
        "\n",
        "from sklearn.pipeline import make_pipeline\n",
        "from sklearn.feature_extraction.text import CountVectorizer\n",
        "import xgboost as xg\n",
        "from sklearn.dummy import DummyClassifier\n",
        "from sklearn.tree import DecisionTreeRegressor\n",
        "from sklearn.compose import make_column_transformer\n",
        "from sklearn.preprocessing import OneHotEncoder, StandardScaler\n",
        "from sklearn.impute import SimpleImputer\n",
        "from sklearn.dummy import DummyRegressor"
      ]
    },
    {
      "cell_type": "markdown",
      "id": "3903a834",
      "metadata": {},
      "source": [
        "## Aim\n",
        "The aim of this data analysis project is to identify which of the factors in the Airbnb Kaggle Dataset are strong predictors of price. Doing so will allow us obtain information which can determine if Airbnbs are accurately priced. \n"
      ]
    },
    {
      "cell_type": "code",
      "execution_count": null,
      "id": "20d42a15",
      "metadata": {},
      "outputs": [],
      "source": [
        "# loading the data\n",
        "data = pd.read_csv(\"../data/raw/AB_NYC_2019.csv\")\n",
        "data.head(3)"
      ]
    },
    {
      "cell_type": "markdown",
      "id": "574de547",
      "metadata": {},
      "source": [
        "### Data Shape & Datatypes\n"
      ]
    },
    {
      "cell_type": "code",
      "execution_count": null,
      "id": "50daa274",
      "metadata": {},
      "outputs": [],
      "source": [
        "print(f'Data Shape: {data.shape}\\n')\n",
        "\n",
        "\n",
        "\n",
        "print(f'Data datatypes: \\n{data.dtypes}')"
      ]
    },
    {
      "cell_type": "markdown",
      "id": "d13c9f05",
      "metadata": {},
      "source": [
        "### Summary Statistics\n"
      ]
    },
    {
      "cell_type": "code",
      "execution_count": null,
      "id": "a40ea846",
      "metadata": {},
      "outputs": [],
      "source": [
        "data.info()\n",
        "\n",
        "data.describe()"
      ]
    },
    {
      "cell_type": "markdown",
      "id": "0cb26156",
      "metadata": {},
      "source": [
        "### Identifying Null values & Duplicates\n"
      ]
    },
    {
      "cell_type": "code",
      "execution_count": null,
      "id": "74b34793",
      "metadata": {},
      "outputs": [],
      "source": [
        "print(f'Null Values: {data.isna().sum()}\\n')\n",
        "\n",
        "print(f'Duplicated Values: {data.duplicated().sum()}')"
      ]
    },
    {
      "cell_type": "markdown",
      "id": "7716b978",
      "metadata": {},
      "source": [
        "### Correlation Matrix (Ranked with Top Ten Correlations)\n"
      ]
    },
    {
      "cell_type": "code",
      "execution_count": null,
      "id": "51297817",
      "metadata": {},
      "outputs": [],
      "source": [
        "# creating correlation matrix\n",
        "corr_matrix = data.select_dtypes('int64')\n",
        "\n",
        "def rank_correlations(corr_matrix):\n",
        "    # flattening matrix\n",
        "    flattened_matrix = corr_matrix.stack().reset_index()\n",
        "\n",
        "    #renaming columns\n",
        "    flattened_matrix.columns = ['Variable_1', 'Variable_2', 'Correlation']\n",
        "\n",
        "    # removing duplicate variable names\n",
        "    flattened_matrix = flattened_matrix.loc[flattened_matrix['Variable_1'] != flattened_matrix['Variable_2']]\n",
        "\n",
        "    corr_column = flattened_matrix['Correlation']\n",
        "\n",
        "    flattened_matrix = flattened_matrix.iloc[abs(corr_column).argsort()[::-1]]\n",
        "\n",
        "    flattened_matrix = flattened_matrix.loc[flattened_matrix['Correlation'].duplicated()]\n",
        "\n",
        "\n",
        "    print(f'Top 10 Variable Correlations: \\n{flattened_matrix.head(10)}')\n",
        "\n",
        "rank_correlations(corr_matrix)"
      ]
    },
    {
      "cell_type": "markdown",
      "id": "b78871d4",
      "metadata": {},
      "source": [
        "## Takwaways From Preliminary EDA\n",
        "- Our shape function tells us we have 48895 rows and 16 features which includes our target variable `price`. \n",
        "\n",
        "-Looking at the columns from our info() function we can identify that name is a text data which could provide some valuable insights. We can also infer that any id information (`id` and `host_id`) and variables such as `host_name` will not provide any key information, thus, we can drop them for our data analysis.\n",
        "\n",
        "- The describe() function provided key summary statistics for our numerical columns which included the following metrics: count, mean, standard deviation, minimum, and maximum. This helps us obtain an idea as to the spread of our data. Our info() function gave us further information about the datatypes, columns, and amount of data we have. Through this analysis in addition to our dtypes() function we can identify that last_reviw is an object dtype but could be converted into a pandas datatime format to further utilize pandas datatime capabilities. Examples of such would be splitting the data into year, month and day to identify if there are any temporal patterns across months of years. \n",
        "\n",
        "- Our isna() function informed us of the null values which are included in the dataset. The columns `name` and `host_name` have 16 and 21 null values respectively, we can address this null values by imputing a blank string to indicate the information is not provided. Our `reviews_per_month` column and `last_review` column have 10052. As these have identical amounts of null values, we can assume that if a Airbnb listing doesn't have a review, instead zero the dataset put a null values. This can be addressed through imputing zero into the null vaues in the reviews_per_month column.  \n",
        "\n",
        "### Summary\n",
        "In order to prepare our data for further analysis we must perform some preliminary feature engineering which will involve:\n",
        "- Convert `id` and `host_id` into object datatypes to prepare them to be dropped.\n",
        "- Converting the data type of the `last_review` column.\n",
        "    - Then split the `last_review` into year, month and day.\n",
        "- Imputing zeros into the `reviews_per_month` null values\n",
        "- Imputing an empty string into the null values for `name` and `host_name\n",
        "\n",
        "\n",
        "After these changes are made we can proceed to split our data into a train and test set and label our data by data type (numeric, categorical, text, and drop columns).\n",
        "### Preliminary Feature Engineering\n",
        "In order to prepare our data, for further analysis we must perform some preliminary feature engineering which will involve:\n",
        "\n",
        "1. **Convert `id` and `host_id` into object datatypes to prepare them to be dropped.**\n"
      ]
    },
    {
      "cell_type": "code",
      "execution_count": null,
      "id": "e09d73dc",
      "metadata": {},
      "outputs": [],
      "source": [
        "data['id'] = str(data['id'])\n",
        "data['host_id'] = str(data['host_id'])"
      ]
    },
    {
      "cell_type": "markdown",
      "id": "7a847de5",
      "metadata": {},
      "source": [
        "2. **Convert the data type of the `last_review` column to datetime.**\n"
      ]
    },
    {
      "cell_type": "code",
      "execution_count": null,
      "id": "da9dc579",
      "metadata": {},
      "outputs": [],
      "source": [
        "data['last_review'] = pd.to_datetime(data['last_review'])"
      ]
    },
    {
      "cell_type": "markdown",
      "id": "cede9f30",
      "metadata": {},
      "source": [
        "3. **Split the `last_review` column into year, month, and day columns.**\n"
      ]
    },
    {
      "cell_type": "code",
      "execution_count": null,
      "id": "41ef6502",
      "metadata": {},
      "outputs": [],
      "source": [
        "data['year'] = data['last_review'].dt.year\n",
        "data['month'] = data['last_review'].dt.month\n",
        "data['day'] = data['last_review'].dt.day"
      ]
    },
    {
      "cell_type": "markdown",
      "id": "d933912f",
      "metadata": {},
      "source": [
        "4. **Impute zeros into the `reviews_per_month` column for null values.**\n"
      ]
    },
    {
      "cell_type": "code",
      "execution_count": null,
      "id": "65c808ef",
      "metadata": {},
      "outputs": [],
      "source": [
        "data['reviews_per_month'] = data['reviews_per_month'].fillna(0)"
      ]
    },
    {
      "cell_type": "markdown",
      "id": "51b3a4dd",
      "metadata": {},
      "source": [
        "5. **Impute an empty string into the `name` and `host_name` columns for null values.**\n"
      ]
    },
    {
      "cell_type": "code",
      "execution_count": null,
      "id": "ea96ab6d",
      "metadata": {},
      "outputs": [],
      "source": [
        "data['name'] = data['name'].fillna('')\n",
        "data['host_name'] = data['host_name'].fillna('')"
      ]
    },
    {
      "cell_type": "markdown",
      "id": "0bf921db",
      "metadata": {},
      "source": [
        "After these changes are made we can proceed to split our data and perform further analysis.\n",
        "\n",
        "## Prelimenary Feature Engineering\n",
        "For the preliminary feature engineering, we will perform the steps above:\n",
        "\n",
        "### Putting It All Together\n",
        "Now, let's put all these steps together to perform your preliminary feature engineering tasks.\n"
      ]
    },
    {
      "cell_type": "code",
      "execution_count": null,
      "id": "f07e654a",
      "metadata": {},
      "outputs": [],
      "source": [
        "# Convert last_review to datetime\n",
        "data['last_review'] = pd.to_datetime(data['last_review'])\n",
        "\n",
        "# Extract year, month, and day from last_review\n",
        "data['year'] = data['last_review'].dt.year\n",
        "data['month'] = data['last_review'].dt.month\n",
        "data['day'] = data['last_review'].dt.day\n",
        "\n",
        "# Impute zeros for reviews_per_month null values\n",
        "data['reviews_per_month'] = data['reviews_per_month'].fillna(0)\n",
        "\n",
        "# Impute empty string for name and host_name null values\n",
        "data['name'] = data['name'].fillna('')\n",
        "data['host_name'] = data['host_name'].fillna('')\n",
        "\n",
        "data.head(3)"
      ]
    },
    {
      "cell_type": "markdown",
      "id": "d4bac154",
      "metadata": {},
      "source": [
        "### Splitting Data\n"
      ]
    },
    {
      "cell_type": "code",
      "execution_count": null,
      "id": "a7f7cf32",
      "metadata": {},
      "outputs": [],
      "source": [
        "train_df, test_df = train_test_split(data, test_size=0.2)\n",
        "\n",
        "# numeric data\n",
        "numerical_data = data.select_dtypes(include=[\"int64\", \"float64\"])\n",
        "numerical_data = numerical_data.columns\n",
        "\n",
        "# text data\n",
        "text_data = [\"name\"]\n",
        "\n",
        "# drop data\n",
        "drop_data = [\"host_name\", \"host_id\", \"id\"]\n",
        "\n",
        "# Categorical Data\n",
        "categorical_data = data.select_dtypes(include=[\"object\"])\n",
        "categorical_data = categorical_data.columns\n",
        "columns_to_exclude = text_data + drop_data\n",
        "categorical_data = [col for col in categorical_data if col not in columns_to_exclude]\n",
        "\n",
        "\n",
        "print(f'Train Shape: {train_df.shape}\\nTest Shape: {test_df.shape}\\n')\n",
        "print(f\"Numerical Columns: {numerical_data}/n\")\n",
        "print(f\"Categorical Columns: {categorical_data}\\n\")\n",
        "print(f\"Text Data: {text_data}\\n\")\n",
        "print(f\"Drop Columns: {drop_data}\\n\")"
      ]
    },
    {
      "cell_type": "markdown",
      "id": "0c301320",
      "metadata": {},
      "source": [
        "# Exploratory Data Analysis (Visualizations)\n",
        "\n",
        "\n",
        "### Figure 1. Correlation Heat Map for Numerical Data\n"
      ]
    },
    {
      "cell_type": "code",
      "execution_count": null,
      "id": "3b9d23a0",
      "metadata": {},
      "outputs": [],
      "source": [
        "# train_corr_matrix = train_df[numerical_data]\n",
        "\n",
        "# plt.figure(figsize=(10,6))\n",
        "# ax = sns.heatmap(train_corr_matrix, annot=True, linewidth=0.5, cmap=\"coolwarm\")\n",
        "# plt.title(\"Correlation Heat map\")\n",
        "# plt.show()\n",
        "\n",
        "\n",
        "# rank_correlations(train_corr_matrix)"
      ]
    },
    {
      "cell_type": "markdown",
      "id": "daa993ea",
      "metadata": {},
      "source": [
        "### Figure 2. Price vs Number of Reviews Coloured by Room Type Scatterplot\n"
      ]
    },
    {
      "cell_type": "code",
      "execution_count": null,
      "id": "ca156193",
      "metadata": {},
      "outputs": [],
      "source": [
        "sns.scatterplot(train_df, x = 'price', y='number_of_reviews', hue='room_type')\n",
        "plt.title(\"Price vs Number of Reviews Coloured by Room Type\")\n",
        "plt.xlabel(\"Price\")\n",
        "plt.ylabel(\"# of Reviews\")\n",
        "plt.show()"
      ]
    },
    {
      "cell_type": "markdown",
      "id": "6a595044",
      "metadata": {},
      "source": [
        "### Figure 3. Price vs Reviews Per Month Coloured by Room Type Scatterplot\n"
      ]
    },
    {
      "cell_type": "code",
      "execution_count": null,
      "id": "183661df",
      "metadata": {},
      "outputs": [],
      "source": [
        "sns.scatterplot(train_df, x = 'price', y='reviews_per_month', hue='room_type')\n",
        "plt.title(\"Price vs Reviews Per Month Coloured by Room Type\")\n",
        "plt.xlabel(\"Price\")\n",
        "plt.ylabel(\"# of Reviews per Month\")\n",
        "plt.show()"
      ]
    },
    {
      "cell_type": "markdown",
      "id": "431f6adb",
      "metadata": {},
      "source": [
        "### Figure 4. Neighbourhood Group vs Log Scaled Price Coloured Boxplot\n"
      ]
    },
    {
      "cell_type": "code",
      "execution_count": null,
      "id": "c9784d5e",
      "metadata": {},
      "outputs": [],
      "source": [
        "log_price = np.log(train_df['price'])\n",
        "sns.boxplot(data=train_df, x=log_price, y='neighbourhood_group')\n",
        "plt.title(\"Boxplot of Neighbourhood Group vs Log Price\")\n",
        "plt.show()"
      ]
    },
    {
      "cell_type": "markdown",
      "id": "2c67cfcc",
      "metadata": {},
      "source": [
        "### Figure 5. Room Type Vs Price Box plot\n",
        "- This visualiation was created to see if there is any relationship between room type and price.\n",
        "- As we can see price differs among the different room types indicating that room type may be able to account for the variation in price. \n"
      ]
    },
    {
      "cell_type": "code",
      "execution_count": null,
      "id": "e3b66e7c",
      "metadata": {},
      "outputs": [],
      "source": [
        "sns.boxplot(data=train_df, x='price', y='room_type')\n",
        "plt.title(\"Boxplot of Price against Room Type\")\n",
        "plt.show()"
      ]
    },
    {
      "cell_type": "markdown",
      "id": "e574b663",
      "metadata": {},
      "source": [
        "# Preprocessing & Transformations\n",
        "\n",
        "\n",
        "# Preparing Data\n",
        "Splitting Data into train and test set and performing imputation on missing values\n"
      ]
    },
    {
      "cell_type": "code",
      "execution_count": null,
      "id": "69b97525",
      "metadata": {},
      "outputs": [],
      "source": [
        "y = data['price']\n",
        "X = data.drop('price', axis=1)\n",
        "X_train, X_test, y_train, y_test = train_test_split(X, y, test_size=0.2, random_state=123)\n",
        "\n",
        "def impute_random(df, column_name):\n",
        "    probs = df[column_name].value_counts(normalize=True)\n",
        "    missing = df[column_name].isna()\n",
        "    imputed_data = np.random.choice(probs.index, size=missing.sum(), p=probs.values)\n",
        "    df.loc[missing, column_name] = imputed_data  # Corrected variable name here\n",
        "    return df\n",
        "\n",
        "\n",
        "numerical_data = numerical_data.tolist()  # Convert to list if it's not already\n",
        "\n",
        "# Check if 'last_review' exists in numerical_data before removing\n",
        "if 'last_review' in numerical_data:\n",
        "    numerical_data.remove('last_review')\n",
        "\n",
        "date_data = ['year', 'month', 'day']\n",
        "\n",
        "# Performing imputation on the null values in our date info\n",
        "for i in date_data:  # Corrected the loop variable name\n",
        "    X_train = impute_random(X_train, i)  # Ensure correct function call\n",
        "    X_test = impute_random(X_test, i)  # Corrected the function name and the argument"
      ]
    },
    {
      "cell_type": "markdown",
      "id": "3688e99d",
      "metadata": {},
      "source": [
        "## Defining Transformations \n"
      ]
    },
    {
      "cell_type": "code",
      "execution_count": null,
      "id": "4585b022",
      "metadata": {},
      "outputs": [],
      "source": [
        "# Numerical Transformer\n",
        "numerical_transformer = StandardScaler()\n",
        "\n",
        "# Categorical Transformer\n",
        "categorical_transformer = OneHotEncoder(handle_unknown='ignore')\n",
        "\n",
        "# Text Data Transformer\n",
        "text_transformer = CountVectorizer()"
      ]
    },
    {
      "cell_type": "code",
      "execution_count": null,
      "id": "8dc2e6a7",
      "metadata": {},
      "outputs": [],
      "source": [
        "preprocessor = make_column_transformer(\n",
        "    ('drop', drop_data),\n",
        "    (numerical_transformer, numerical_data),\n",
        "    (categorical_transformer, categorical_data),\n",
        "    (text_transformer, text_data),\n",
        "    remainder='passthrough'\n",
        ")"
      ]
    },
    {
      "cell_type": "markdown",
      "id": "02bb7d96",
      "metadata": {},
      "source": [
        "# Creating a Baseline Model\n"
      ]
    },
    {
      "cell_type": "code",
      "execution_count": null,
      "id": "10c28576",
      "metadata": {},
      "outputs": [],
      "source": [
        "reg = DummyRegressor()"
      ]
    },
    {
      "cell_type": "code",
      "execution_count": null,
      "id": "7cb7f627",
      "metadata": {},
      "outputs": [],
      "source": [
        "pipe = make_pipeline(preprocessor, reg)\n",
        "pipe.fit(X_train, y_train)\n",
        "# pipe.predict(X_train)\n",
        "f'Test Score is: {pipe.score(X_train, y_train)}'"
      ]
    }
  ],
  "metadata": {
    "kernelspec": {
      "display_name": "Python 3 (ipykernel)",
      "language": "python",
      "name": "python3"
    },
    "language_info": {
      "name": "python",
      "version": "3.10.0"
    }
  },
  "nbformat": 4,
  "nbformat_minor": 5
}
